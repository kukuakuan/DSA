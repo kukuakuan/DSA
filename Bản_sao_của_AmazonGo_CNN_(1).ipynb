{
  "nbformat": 4,
  "nbformat_minor": 0,
  "metadata": {
    "colab": {
      "name": "Bản sao của AmazonGo_CNN (1).ipynb",
      "provenance": [],
      "collapsed_sections": [],
      "include_colab_link": true
    },
    "kernelspec": {
      "display_name": "Python 3",
      "language": "python",
      "name": "python3"
    },
    "language_info": {
      "codemirror_mode": {
        "name": "ipython",
        "version": 3
      },
      "file_extension": ".py",
      "mimetype": "text/x-python",
      "name": "python",
      "nbconvert_exporter": "python",
      "pygments_lexer": "ipython3",
      "version": "3.7.6"
    }
  },
  "cells": [
    {
      "cell_type": "markdown",
      "metadata": {
        "id": "view-in-github",
        "colab_type": "text"
      },
      "source": [
        "<a href=\"https://colab.research.google.com/github/kukuakuan/DSA/blob/main/B%E1%BA%A3n_sao_c%E1%BB%A7a_AmazonGo_CNN_(1).ipynb\" target=\"_parent\"><img src=\"https://colab.research.google.com/assets/colab-badge.svg\" alt=\"Open In Colab\"/></a>"
      ]
    },
    {
      "cell_type": "markdown",
      "metadata": {
        "id": "Ct764fKvYPoY"
      },
      "source": [
        "# **Bài toán phân loại ảnh**"
      ]
    },
    {
      "cell_type": "markdown",
      "metadata": {
        "id": "QXojhnOvw75r"
      },
      "source": [
        "**Khai báo các thư viện sử dụng**"
      ]
    },
    {
      "cell_type": "code",
      "metadata": {
        "id": "PpCU1_pkvR91"
      },
      "source": [
        "import tensorflow as tf\n",
        "from tensorflow import keras\n",
        "import matplotlib.pyplot as plt\n",
        "import numpy as np"
      ],
      "execution_count": null,
      "outputs": []
    },
    {
      "cell_type": "markdown",
      "metadata": {
        "id": "1kl6pxUWyAzi"
      },
      "source": [
        "**Kết nối với Google Drive để đọc file và lưu file**"
      ]
    },
    {
      "cell_type": "code",
      "metadata": {
        "colab": {
          "base_uri": "https://localhost:8080/"
        },
        "id": "FrXkuict93-b",
        "outputId": "3a4857e7-d5ab-4cee-f33d-b6228d29ab06"
      },
      "source": [
        "from google.colab import drive\n",
        "drive.mount('/content/drive/')"
      ],
      "execution_count": null,
      "outputs": [
        {
          "output_type": "stream",
          "name": "stdout",
          "text": [
            "Mounted at /content/drive/\n"
          ]
        }
      ]
    },
    {
      "cell_type": "markdown",
      "metadata": {
        "id": "GI__4EBxyh6D"
      },
      "source": [
        "**Khai báo đường dẫn thư mục chứa dữ liệu ảnh**"
      ]
    },
    {
      "cell_type": "code",
      "metadata": {
        "id": "YrFBD3Imb4vm"
      },
      "source": [
        "import os\n",
        "train_image_files_path = \"/content/drive/My Drive/Data/Train/\"\n",
        "valid_image_files_path = \"/content/drive/My Drive/Data/Validation/\""
      ],
      "execution_count": null,
      "outputs": []
    },
    {
      "cell_type": "markdown",
      "metadata": {
        "id": "Cb9upgTK20mj"
      },
      "source": [
        "\n",
        "\n",
        "**Gán nhãn dữ liệu**\n",
        "\n"
      ]
    },
    {
      "cell_type": "code",
      "metadata": {
        "id": "Dv_8Tt5T3QoW"
      },
      "source": [
        "label=['mask','no mask','mask error']"
      ],
      "execution_count": null,
      "outputs": []
    },
    {
      "cell_type": "markdown",
      "metadata": {
        "id": "GNlOs9FyR1l8"
      },
      "source": [
        "**Tiền xử lý dữ liệu ảnh với ImageDataGenerator**"
      ]
    },
    {
      "cell_type": "code",
      "metadata": {
        "id": "fmAeBTg5SIr8"
      },
      "source": [
        "from tensorflow.keras.preprocessing.image import ImageDataGenerator\n",
        "train_data_gen = ImageDataGenerator(rescale=1/255)  # chuẩn hóa dữ liệu ảnh về 0-1\n",
        "validation_data_gen = ImageDataGenerator(rescale=1/255)"
      ],
      "execution_count": null,
      "outputs": []
    },
    {
      "cell_type": "markdown",
      "metadata": {
        "id": "XlGmlbXYz9bZ"
      },
      "source": [
        "**Đọc dữ liệu train và validation**"
      ]
    },
    {
      "cell_type": "code",
      "metadata": {
        "colab": {
          "base_uri": "https://localhost:8080/"
        },
        "id": "Fy8IfDDDuC0U",
        "outputId": "b095f936-ede1-4c1f-ee7a-2403c4d7128d"
      },
      "source": [
        "train_generator = train_data_gen.flow_from_directory(\n",
        "    train_image_files_path,       # Đường dẫn tới ảnh huấn luyện                                    \n",
        "    target_size=(120, 120),         # Biến đổi các ảnh huấn luyện về cùng một kích thước [120x120]      \n",
        "    class_mode='categorical')     # Phân loại ảnh đa lớp (3 lớp) \n",
        "\n",
        "validation_generator = validation_data_gen.flow_from_directory(\n",
        "    valid_image_files_path,\n",
        "    target_size=(120, 120),               \n",
        "    class_mode='categorical')\n"
      ],
      "execution_count": null,
      "outputs": [
        {
          "output_type": "stream",
          "name": "stdout",
          "text": [
            "Found 251 images belonging to 3 classes.\n",
            "Found 69 images belonging to 3 classes.\n"
          ]
        }
      ]
    },
    {
      "cell_type": "markdown",
      "metadata": {
        "id": "S2ey8MIu3bQc"
      },
      "source": [
        "**Xây dựng mô hình**\n"
      ]
    },
    {
      "cell_type": "code",
      "metadata": {
        "id": "BkEMGQq6vq7G"
      },
      "source": [
        "from keras.models import Sequential\n",
        "from keras.layers import Dense, Dropout, Conv2D, MaxPooling2D, Flatten\n",
        "\n",
        "model=tf.keras.models.Sequential()\n",
        "\n",
        "# lớp CNN1\n",
        "model.add(Conv2D(64,(3,3), activation='relu',input_shape=(120,120,3)))\n",
        "model.add(MaxPooling2D(2,2))\n",
        "\n",
        "# lớp CNN2\n",
        "model.add(Conv2D(64,(3,3), activation='relu'))\n",
        "model.add(MaxPooling2D(2,2))  \n",
        "\n",
        "# chuyển dữ liệu đầu ra của mạng CNN từ mảng 2 chiều về mảng 1 chiều\n",
        "model.add(Flatten())\n",
        "\n",
        "# lớp ẩn\n",
        "model.add(Dense(512, activation=tf.nn.relu))\n",
        "\n",
        "# lớp output\n",
        "model.add(Dense(3, activation=tf.nn.softmax)) # 3 đầu ra "
      ],
      "execution_count": null,
      "outputs": []
    },
    {
      "cell_type": "code",
      "metadata": {
        "id": "5GAeqdW50V7o",
        "colab": {
          "base_uri": "https://localhost:8080/"
        },
        "outputId": "2f0628e4-7927-4c26-f96b-cb025be438f1"
      },
      "source": [
        "from google.colab import drive\n",
        "drive.mount('/content/drive')"
      ],
      "execution_count": null,
      "outputs": [
        {
          "output_type": "stream",
          "name": "stdout",
          "text": [
            "Drive already mounted at /content/drive; to attempt to forcibly remount, call drive.mount(\"/content/drive\", force_remount=True).\n"
          ]
        }
      ]
    },
    {
      "cell_type": "markdown",
      "metadata": {
        "id": "2CPxcPlzUNAA"
      },
      "source": [
        "**Thiết lập các tham số để huấn luyện mô hình**"
      ]
    },
    {
      "cell_type": "code",
      "metadata": {
        "id": "mIg5Hal1CziK",
        "colab": {
          "base_uri": "https://localhost:8080/"
        },
        "outputId": "aff54628-972d-44b3-9b9f-13fca97ad996"
      },
      "source": [
        "from tensorflow.keras.optimizers import RMSprop \n",
        "model.compile(optimizer=RMSprop(lr=0.001),  #sử dụng RMSprop \n",
        "              loss='categorical_crossentropy', \n",
        "              metrics=['acc'])"
      ],
      "execution_count": null,
      "outputs": [
        {
          "output_type": "stream",
          "name": "stderr",
          "text": [
            "/usr/local/lib/python3.7/dist-packages/keras/optimizer_v2/optimizer_v2.py:356: UserWarning: The `lr` argument is deprecated, use `learning_rate` instead.\n",
            "  \"The `lr` argument is deprecated, use `learning_rate` instead.\")\n"
          ]
        }
      ]
    },
    {
      "cell_type": "markdown",
      "metadata": {
        "id": "QUWeKNmbZY10"
      },
      "source": [
        "**Huấn luyện mô hình**"
      ]
    },
    {
      "cell_type": "code",
      "metadata": {
        "colab": {
          "base_uri": "https://localhost:8080/"
        },
        "id": "VewAD7QlEAFm",
        "outputId": "5e8bb38b-dd83-4e70-e107-97cb51a960d6"
      },
      "source": [
        "EPOCHS=100\n",
        "history=model.fit(\n",
        "    train_generator,\n",
        "    steps_per_epoch=2,\n",
        "    epochs=EPOCHS,\n",
        "    verbose=1,\n",
        "    validation_data = validation_generator,\n",
        "    validation_steps=2)"
      ],
      "execution_count": null,
      "outputs": [
        {
          "output_type": "stream",
          "name": "stdout",
          "text": [
            "Epoch 1/100\n",
            "2/2 [==============================] - 33s 21s/step - loss: 24.4079 - acc: 0.3594 - val_loss: 10.1437 - val_acc: 0.3750\n",
            "Epoch 2/100\n",
            "2/2 [==============================] - 13s 6s/step - loss: 8.5057 - acc: 0.2542 - val_loss: 1.1000 - val_acc: 0.3750\n",
            "Epoch 3/100\n",
            "2/2 [==============================] - 8s 4s/step - loss: 1.1034 - acc: 0.3729 - val_loss: 1.2701 - val_acc: 0.3594\n",
            "Epoch 4/100\n",
            "2/2 [==============================] - 10s 5s/step - loss: 1.1090 - acc: 0.3594 - val_loss: 1.0754 - val_acc: 0.3750\n",
            "Epoch 5/100\n",
            "2/2 [==============================] - 5s 3s/step - loss: 0.9876 - acc: 0.6441 - val_loss: 3.9185 - val_acc: 0.3750\n",
            "Epoch 6/100\n",
            "2/2 [==============================] - 6s 4s/step - loss: 2.8189 - acc: 0.3281 - val_loss: 1.0756 - val_acc: 0.3594\n",
            "Epoch 7/100\n",
            "2/2 [==============================] - 6s 3s/step - loss: 1.0457 - acc: 0.4219 - val_loss: 1.0821 - val_acc: 0.3281\n",
            "Epoch 8/100\n",
            "2/2 [==============================] - 5s 3s/step - loss: 1.0466 - acc: 0.3438 - val_loss: 1.1167 - val_acc: 0.3906\n",
            "Epoch 9/100\n",
            "2/2 [==============================] - 5s 3s/step - loss: 0.9353 - acc: 0.5625 - val_loss: 1.0065 - val_acc: 0.6094\n",
            "Epoch 10/100\n",
            "2/2 [==============================] - 5s 3s/step - loss: 0.8691 - acc: 0.8438 - val_loss: 0.9971 - val_acc: 0.5000\n",
            "Epoch 11/100\n",
            "2/2 [==============================] - 5s 3s/step - loss: 0.8248 - acc: 0.6094 - val_loss: 2.0009 - val_acc: 0.3438\n",
            "Epoch 12/100\n",
            "2/2 [==============================] - 5s 3s/step - loss: 1.3348 - acc: 0.5000 - val_loss: 0.8716 - val_acc: 0.6719\n",
            "Epoch 13/100\n",
            "2/2 [==============================] - 5s 3s/step - loss: 0.5783 - acc: 0.8125 - val_loss: 1.0902 - val_acc: 0.4844\n",
            "Epoch 14/100\n",
            "2/2 [==============================] - 5s 3s/step - loss: 1.1191 - acc: 0.6406 - val_loss: 1.2900 - val_acc: 0.3906\n",
            "Epoch 15/100\n",
            "2/2 [==============================] - 5s 3s/step - loss: 0.7081 - acc: 0.6562 - val_loss: 0.9907 - val_acc: 0.6094\n",
            "Epoch 16/100\n",
            "2/2 [==============================] - 5s 3s/step - loss: 0.5354 - acc: 0.8594 - val_loss: 1.0564 - val_acc: 0.6094\n",
            "Epoch 17/100\n",
            "2/2 [==============================] - 5s 3s/step - loss: 0.4182 - acc: 0.8594 - val_loss: 1.3593 - val_acc: 0.6094\n",
            "Epoch 18/100\n",
            "2/2 [==============================] - 5s 3s/step - loss: 0.4727 - acc: 0.8438 - val_loss: 1.0091 - val_acc: 0.5938\n",
            "Epoch 19/100\n",
            "2/2 [==============================] - 4s 2s/step - loss: 0.2385 - acc: 0.9153 - val_loss: 0.7733 - val_acc: 0.6406\n",
            "Epoch 20/100\n",
            "2/2 [==============================] - 5s 3s/step - loss: 3.8258 - acc: 0.6250 - val_loss: 1.0914 - val_acc: 0.5781\n",
            "Epoch 21/100\n",
            "2/2 [==============================] - 5s 3s/step - loss: 0.4524 - acc: 0.8438 - val_loss: 0.9851 - val_acc: 0.5781\n",
            "Epoch 22/100\n",
            "2/2 [==============================] - 5s 3s/step - loss: 0.2741 - acc: 0.9375 - val_loss: 0.8704 - val_acc: 0.6250\n",
            "Epoch 23/100\n",
            "2/2 [==============================] - 5s 3s/step - loss: 0.3026 - acc: 0.9062 - val_loss: 1.2867 - val_acc: 0.6094\n",
            "Epoch 24/100\n",
            "2/2 [==============================] - 5s 3s/step - loss: 0.3549 - acc: 0.8750 - val_loss: 1.3300 - val_acc: 0.6094\n",
            "Epoch 25/100\n",
            "2/2 [==============================] - 4s 3s/step - loss: 0.3029 - acc: 0.9322 - val_loss: 1.3850 - val_acc: 0.4688\n",
            "Epoch 26/100\n",
            "2/2 [==============================] - 5s 3s/step - loss: 0.2437 - acc: 0.9219 - val_loss: 1.5090 - val_acc: 0.5469\n",
            "Epoch 27/100\n",
            "2/2 [==============================] - 5s 3s/step - loss: 0.1497 - acc: 0.9531 - val_loss: 1.0947 - val_acc: 0.6250\n",
            "Epoch 28/100\n",
            "2/2 [==============================] - 5s 3s/step - loss: 0.0693 - acc: 1.0000 - val_loss: 1.3778 - val_acc: 0.5938\n",
            "Epoch 29/100\n",
            "2/2 [==============================] - 5s 3s/step - loss: 0.0629 - acc: 0.9844 - val_loss: 1.5698 - val_acc: 0.5469\n",
            "Epoch 30/100\n",
            "2/2 [==============================] - 4s 3s/step - loss: 0.0764 - acc: 0.9831 - val_loss: 1.7252 - val_acc: 0.5938\n",
            "Epoch 31/100\n",
            "2/2 [==============================] - 5s 3s/step - loss: 0.1288 - acc: 0.9844 - val_loss: 1.3593 - val_acc: 0.6562\n",
            "Epoch 32/100\n",
            "2/2 [==============================] - 5s 3s/step - loss: 0.0440 - acc: 0.9844 - val_loss: 0.7589 - val_acc: 0.6875\n",
            "Epoch 33/100\n",
            "2/2 [==============================] - 5s 3s/step - loss: 0.4371 - acc: 0.8281 - val_loss: 1.7951 - val_acc: 0.4375\n",
            "Epoch 34/100\n",
            "2/2 [==============================] - 5s 3s/step - loss: 0.6493 - acc: 0.6719 - val_loss: 1.0738 - val_acc: 0.5625\n",
            "Epoch 35/100\n",
            "2/2 [==============================] - 5s 3s/step - loss: 0.2301 - acc: 0.9531 - val_loss: 1.6813 - val_acc: 0.6719\n",
            "Epoch 36/100\n",
            "2/2 [==============================] - 5s 3s/step - loss: 0.1462 - acc: 0.9531 - val_loss: 1.3053 - val_acc: 0.5781\n",
            "Epoch 37/100\n",
            "2/2 [==============================] - 4s 3s/step - loss: 0.0644 - acc: 1.0000 - val_loss: 1.5640 - val_acc: 0.6406\n",
            "Epoch 38/100\n",
            "2/2 [==============================] - 5s 3s/step - loss: 0.0539 - acc: 1.0000 - val_loss: 1.1991 - val_acc: 0.6406\n",
            "Epoch 39/100\n",
            "2/2 [==============================] - 5s 3s/step - loss: 0.0771 - acc: 0.9844 - val_loss: 1.3065 - val_acc: 0.6562\n",
            "Epoch 40/100\n",
            "2/2 [==============================] - 5s 3s/step - loss: 0.1004 - acc: 0.9688 - val_loss: 1.3092 - val_acc: 0.6562\n",
            "Epoch 41/100\n",
            "2/2 [==============================] - 5s 3s/step - loss: 0.0813 - acc: 1.0000 - val_loss: 1.9131 - val_acc: 0.5938\n",
            "Epoch 42/100\n",
            "2/2 [==============================] - 5s 3s/step - loss: 0.0280 - acc: 1.0000 - val_loss: 2.0733 - val_acc: 0.5781\n",
            "Epoch 43/100\n",
            "2/2 [==============================] - 4s 3s/step - loss: 0.0215 - acc: 1.0000 - val_loss: 1.8740 - val_acc: 0.6406\n",
            "Epoch 44/100\n",
            "2/2 [==============================] - 5s 3s/step - loss: 0.0171 - acc: 1.0000 - val_loss: 2.1614 - val_acc: 0.5312\n",
            "Epoch 45/100\n",
            "2/2 [==============================] - 5s 3s/step - loss: 0.0238 - acc: 1.0000 - val_loss: 1.7590 - val_acc: 0.6562\n",
            "Epoch 46/100\n",
            "2/2 [==============================] - 5s 3s/step - loss: 0.0149 - acc: 1.0000 - val_loss: 2.3931 - val_acc: 0.5625\n",
            "Epoch 47/100\n",
            "2/2 [==============================] - 5s 3s/step - loss: 0.0046 - acc: 1.0000 - val_loss: 2.2146 - val_acc: 0.5938\n",
            "Epoch 48/100\n",
            "2/2 [==============================] - 5s 3s/step - loss: 0.0087 - acc: 1.0000 - val_loss: 2.4424 - val_acc: 0.5625\n",
            "Epoch 49/100\n",
            "2/2 [==============================] - 5s 3s/step - loss: 0.0103 - acc: 1.0000 - val_loss: 1.4589 - val_acc: 0.6875\n",
            "Epoch 50/100\n",
            "2/2 [==============================] - 5s 3s/step - loss: 0.0023 - acc: 1.0000 - val_loss: 2.1159 - val_acc: 0.6094\n",
            "Epoch 51/100\n",
            "2/2 [==============================] - 5s 3s/step - loss: 0.0020 - acc: 1.0000 - val_loss: 2.4953 - val_acc: 0.5938\n",
            "Epoch 52/100\n",
            "2/2 [==============================] - 5s 3s/step - loss: 0.0014 - acc: 1.0000 - val_loss: 2.6020 - val_acc: 0.5938\n",
            "Epoch 53/100\n",
            "2/2 [==============================] - 5s 3s/step - loss: 0.0015 - acc: 1.0000 - val_loss: 2.8611 - val_acc: 0.5781\n",
            "Epoch 54/100\n",
            "2/2 [==============================] - 5s 3s/step - loss: 0.0015 - acc: 1.0000 - val_loss: 2.8365 - val_acc: 0.5938\n",
            "Epoch 55/100\n",
            "2/2 [==============================] - 5s 3s/step - loss: 4.9052e-04 - acc: 1.0000 - val_loss: 2.2698 - val_acc: 0.6094\n",
            "Epoch 56/100\n",
            "2/2 [==============================] - 5s 3s/step - loss: 3.8047e-04 - acc: 1.0000 - val_loss: 2.3524 - val_acc: 0.5938\n",
            "Epoch 57/100\n",
            "2/2 [==============================] - 5s 3s/step - loss: 0.0013 - acc: 1.0000 - val_loss: 3.3726 - val_acc: 0.5625\n",
            "Epoch 58/100\n",
            "2/2 [==============================] - 5s 3s/step - loss: 0.0610 - acc: 0.9844 - val_loss: 12.7254 - val_acc: 0.3750\n",
            "Epoch 59/100\n",
            "2/2 [==============================] - 5s 3s/step - loss: 5.3097 - acc: 0.7188 - val_loss: 1.7609 - val_acc: 0.4688\n",
            "Epoch 60/100\n",
            "2/2 [==============================] - 5s 3s/step - loss: 0.7136 - acc: 0.7500 - val_loss: 1.6089 - val_acc: 0.5000\n",
            "Epoch 61/100\n",
            "2/2 [==============================] - 5s 3s/step - loss: 0.1375 - acc: 1.0000 - val_loss: 1.4392 - val_acc: 0.5781\n",
            "Epoch 62/100\n",
            "2/2 [==============================] - 5s 3s/step - loss: 0.0415 - acc: 1.0000 - val_loss: 1.2339 - val_acc: 0.6250\n",
            "Epoch 63/100\n",
            "2/2 [==============================] - 4s 3s/step - loss: 0.0416 - acc: 1.0000 - val_loss: 2.3018 - val_acc: 0.6094\n",
            "Epoch 64/100\n",
            "2/2 [==============================] - 4s 3s/step - loss: 0.0113 - acc: 1.0000 - val_loss: 2.1748 - val_acc: 0.5781\n",
            "Epoch 65/100\n",
            "2/2 [==============================] - 5s 3s/step - loss: 0.0098 - acc: 1.0000 - val_loss: 2.3931 - val_acc: 0.5469\n",
            "Epoch 66/100\n",
            "2/2 [==============================] - 4s 3s/step - loss: 0.0077 - acc: 1.0000 - val_loss: 0.9509 - val_acc: 0.7188\n",
            "Epoch 67/100\n",
            "2/2 [==============================] - 4s 3s/step - loss: 0.0145 - acc: 1.0000 - val_loss: 2.2147 - val_acc: 0.5781\n",
            "Epoch 68/100\n",
            "2/2 [==============================] - 5s 3s/step - loss: 0.0109 - acc: 1.0000 - val_loss: 1.5313 - val_acc: 0.6562\n",
            "Epoch 69/100\n",
            "2/2 [==============================] - 5s 3s/step - loss: 0.0085 - acc: 1.0000 - val_loss: 2.2909 - val_acc: 0.5938\n",
            "Epoch 70/100\n",
            "2/2 [==============================] - 5s 3s/step - loss: 0.0017 - acc: 1.0000 - val_loss: 2.1812 - val_acc: 0.6094\n",
            "Epoch 71/100\n",
            "2/2 [==============================] - 5s 3s/step - loss: 0.0019 - acc: 1.0000 - val_loss: 1.8625 - val_acc: 0.6094\n",
            "Epoch 72/100\n",
            "2/2 [==============================] - 5s 3s/step - loss: 0.0025 - acc: 1.0000 - val_loss: 2.3960 - val_acc: 0.5938\n",
            "Epoch 73/100\n",
            "2/2 [==============================] - 4s 3s/step - loss: 0.0013 - acc: 1.0000 - val_loss: 2.6473 - val_acc: 0.5781\n",
            "Epoch 74/100\n",
            "2/2 [==============================] - 5s 3s/step - loss: 0.0019 - acc: 1.0000 - val_loss: 2.8338 - val_acc: 0.5312\n",
            "Epoch 75/100\n",
            "2/2 [==============================] - 5s 3s/step - loss: 9.6667e-04 - acc: 1.0000 - val_loss: 2.6304 - val_acc: 0.5625\n",
            "Epoch 76/100\n",
            "2/2 [==============================] - 5s 3s/step - loss: 5.8119e-04 - acc: 1.0000 - val_loss: 2.2410 - val_acc: 0.5938\n",
            "Epoch 77/100\n",
            "2/2 [==============================] - 5s 3s/step - loss: 6.6282e-04 - acc: 1.0000 - val_loss: 2.5107 - val_acc: 0.5781\n",
            "Epoch 78/100\n",
            "2/2 [==============================] - 5s 3s/step - loss: 5.4975e-04 - acc: 1.0000 - val_loss: 2.5072 - val_acc: 0.5938\n",
            "Epoch 79/100\n",
            "2/2 [==============================] - 5s 3s/step - loss: 4.5032e-04 - acc: 1.0000 - val_loss: 2.7450 - val_acc: 0.5781\n",
            "Epoch 80/100\n",
            "2/2 [==============================] - 4s 2s/step - loss: 3.3066e-04 - acc: 1.0000 - val_loss: 2.5435 - val_acc: 0.5938\n",
            "Epoch 81/100\n",
            "2/2 [==============================] - 4s 3s/step - loss: 4.6116e-04 - acc: 1.0000 - val_loss: 2.2115 - val_acc: 0.5781\n",
            "Epoch 82/100\n",
            "2/2 [==============================] - 5s 3s/step - loss: 2.4465e-04 - acc: 1.0000 - val_loss: 2.8175 - val_acc: 0.5625\n",
            "Epoch 83/100\n",
            "2/2 [==============================] - 5s 3s/step - loss: 2.0517e-04 - acc: 1.0000 - val_loss: 2.4648 - val_acc: 0.6094\n",
            "Epoch 84/100\n",
            "2/2 [==============================] - 4s 3s/step - loss: 1.4983e-04 - acc: 1.0000 - val_loss: 2.6895 - val_acc: 0.5938\n",
            "Epoch 85/100\n",
            "2/2 [==============================] - 4s 3s/step - loss: 1.8035e-04 - acc: 1.0000 - val_loss: 2.9211 - val_acc: 0.5312\n",
            "Epoch 86/100\n",
            "2/2 [==============================] - 5s 3s/step - loss: 1.1316e-04 - acc: 1.0000 - val_loss: 2.7082 - val_acc: 0.5781\n",
            "Epoch 87/100\n",
            "2/2 [==============================] - 5s 3s/step - loss: 9.3226e-05 - acc: 1.0000 - val_loss: 2.0075 - val_acc: 0.6562\n",
            "Epoch 88/100\n",
            "2/2 [==============================] - 4s 3s/step - loss: 1.7283e-04 - acc: 1.0000 - val_loss: 2.5080 - val_acc: 0.6094\n",
            "Epoch 89/100\n",
            "2/2 [==============================] - 5s 3s/step - loss: 1.6286e-04 - acc: 1.0000 - val_loss: 2.4726 - val_acc: 0.6094\n",
            "Epoch 90/100\n",
            "2/2 [==============================] - 5s 3s/step - loss: 1.2006e-04 - acc: 1.0000 - val_loss: 3.2311 - val_acc: 0.5469\n",
            "Epoch 91/100\n",
            "2/2 [==============================] - 5s 3s/step - loss: 7.0823e-05 - acc: 1.0000 - val_loss: 2.7373 - val_acc: 0.5938\n",
            "Epoch 92/100\n",
            "2/2 [==============================] - 4s 3s/step - loss: 6.8159e-05 - acc: 1.0000 - val_loss: 2.6842 - val_acc: 0.6094\n",
            "Epoch 93/100\n",
            "2/2 [==============================] - 5s 3s/step - loss: 6.7637e-05 - acc: 1.0000 - val_loss: 2.4200 - val_acc: 0.6094\n",
            "Epoch 94/100\n",
            "2/2 [==============================] - 5s 3s/step - loss: 6.8056e-05 - acc: 1.0000 - val_loss: 2.7313 - val_acc: 0.6250\n",
            "Epoch 95/100\n",
            "2/2 [==============================] - 5s 3s/step - loss: 5.0354e-05 - acc: 1.0000 - val_loss: 2.6670 - val_acc: 0.6094\n",
            "Epoch 96/100\n",
            "2/2 [==============================] - 4s 3s/step - loss: 4.3093e-05 - acc: 1.0000 - val_loss: 2.5750 - val_acc: 0.6250\n",
            "Epoch 97/100\n",
            "2/2 [==============================] - 4s 3s/step - loss: 5.0181e-05 - acc: 1.0000 - val_loss: 2.7572 - val_acc: 0.6094\n",
            "Epoch 98/100\n",
            "2/2 [==============================] - 4s 3s/step - loss: 3.9049e-05 - acc: 1.0000 - val_loss: 2.4449 - val_acc: 0.6094\n",
            "Epoch 99/100\n",
            "2/2 [==============================] - 5s 3s/step - loss: 3.6642e-05 - acc: 1.0000 - val_loss: 2.7782 - val_acc: 0.5938\n",
            "Epoch 100/100\n",
            "2/2 [==============================] - 5s 3s/step - loss: 2.3560e-05 - acc: 1.0000 - val_loss: 2.8884 - val_acc: 0.5938\n"
          ]
        }
      ]
    },
    {
      "cell_type": "markdown",
      "metadata": {
        "id": "jPbQnnY3ha_-"
      },
      "source": [
        "**Sử dụng mô hình**"
      ]
    },
    {
      "cell_type": "code",
      "metadata": {
        "colab": {
          "resources": {
            "http://localhost:8080/nbextensions/google.colab/files.js": {
              "data": "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",
              "ok": true,
              "headers": [
                [
                  "content-type",
                  "application/javascript"
                ]
              ],
              "status": 200,
              "status_text": ""
            }
          },
          "base_uri": "https://localhost:8080/",
          "height": 358
        },
        "id": "5ZVHVA03FhUY",
        "outputId": "10575d1b-c658-4dd0-e194-4c39f2ea8ac9"
      },
      "source": [
        "from google.colab import files\n",
        "from keras.preprocessing import image\n",
        "%matplotlib inline\n",
        "import matplotlib.pyplot as plt\n",
        "import matplotlib.image as mpimg\n",
        "\n",
        "uploaded=files.upload()\n",
        "\n",
        "for fn in uploaded.keys():\n",
        "  #predicting images\n",
        "  path='/content/'+fn\n",
        "  #In ảnh đọc được\n",
        "  plt.imshow(mpimg.imread(path))\n",
        "\n",
        "  img=image.load_img(path,target_size=(120,120))\n",
        "  x=image.img_to_array(img)\n",
        "  x=np.expand_dims(x,axis=0)\n",
        "  images=np.vstack([x])\n",
        "  y_predict = model.predict(images,batch_size=2)\n",
        "  print(y_predict)\n",
        "  print('Giá trị dự đoán: ', label[np.argmax(y_predict)])\n",
        "  "
      ],
      "execution_count": null,
      "outputs": [
        {
          "output_type": "display_data",
          "data": {
            "text/html": [
              "\n",
              "     <input type=\"file\" id=\"files-449fc2fc-ad82-4280-b9fd-805f9f34c69c\" name=\"files[]\" multiple disabled\n",
              "        style=\"border:none\" />\n",
              "     <output id=\"result-449fc2fc-ad82-4280-b9fd-805f9f34c69c\">\n",
              "      Upload widget is only available when the cell has been executed in the\n",
              "      current browser session. Please rerun this cell to enable.\n",
              "      </output>\n",
              "      <script src=\"/nbextensions/google.colab/files.js\"></script> "
            ],
            "text/plain": [
              "<IPython.core.display.HTML object>"
            ]
          },
          "metadata": {}
        },
        {
          "output_type": "stream",
          "name": "stdout",
          "text": [
            "Saving 244847737_966690424261965_2859537288347049780_n.jpg to 244847737_966690424261965_2859537288347049780_n.jpg\n",
            "[[0. 0. 1.]]\n",
            "Giá trị dự đoán:  mask error\n"
          ]
        },
        {
          "output_type": "display_data",
          "data": {
            "image/png": "[encoded data removed]",
            "text/plain": [
              "<Figure size 432x288 with 1 Axes>"
            ]
          },
          "metadata": {
            "needs_background": "light"
          }
        }
      ]
    },
    {
      "cell_type": "markdown",
      "metadata": {
        "id": "7gV3LC5ph-id"
      },
      "source": [
        "## **Yêu cầu đối với Sinh viên để Nâng cao chất lượng mô hình**\n",
        "1. Mở rộng dữ liệu huấn luyện và kiểm chứng về số lớp và số lượng ảnh\n",
        "(ví dụ thêm lớp TrangPhuc, mỗi lớp có 100 ảnh huấn luyện, 25 ảnh kiểm chứng).\n",
        "\n",
        "2. Thực nghiệm chuẩn hóa kích thước ảnh (ví dụ 100x100, 120x120...)\n",
        "\n",
        "3. Bổ sung thêm một lớp mạng CNN, thay đổi số lượng và kích thước bộ lọc\n",
        "\n",
        "4. Thay đổi tham số optimizer\n",
        "\n",
        "5. Thay đổi giá trị số vòng lặp chạy mô hình EPOCHS\n",
        "\n",
        "6. Xây dựng một bài toán ứng dụng về Computer Vision khác"
      ]
    }
  ]
}